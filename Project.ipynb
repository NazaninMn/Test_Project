{
 "cells": [
  {
   "cell_type": "markdown",
   "metadata": {},
   "source": [
    "# Reproducible research"
   ]
  },
  {
   "cell_type": "markdown",
   "metadata": {},
   "source": [
    "Reproducible research\n",
    "The term reproducible research refers to the idea that the ultimate product of academic research is the paper along with the laboratory notebooks <cite data-cite=\"kuhneImprovingTraditionalInformation2009\">(Kühne et al., 2009)</cite> and full computational environment used to produce the results in the paper such as the code, data, etc. that can be used to reproduce the results and create new work based on the research.<cite data-cite=\"sergeyfomelGuestEditorsIntroduction\">(Sergey et al., 2020)</cite> Typical examples of reproducible research comprise compendia of data, code and text files, often organised around an R Markdown source document  <cite data-cite=\"marwickPackagingDataAnalytical2018\">(Marwick et al., 2018)</cite> or a Jupyter notebook."
   ]
  },
  {
   "cell_type": "markdown",
   "metadata": {},
   "source": [
    "# Results"
   ]
  },
  {
   "cell_type": "code",
   "execution_count": 2,
   "metadata": {},
   "outputs": [],
   "source": [
    "import statistics\n",
    "\n",
    "example_list = [5,2,5,6,1,2,6,7,2,6,3,5,5]\n",
    "\n",
    "x = statistics.mean(example_list);y = statistics.median(example_list);z = statistics.mode(example_list)\n",
    "a = statistics.stdev(example_list);b = statistics.variance(example_list)"
   ]
  },
  {
   "cell_type": "markdown",
   "metadata": {
    "variables": {
     "b": "3.858974358974359",
     "x": "4.230769230769231"
    }
   },
   "source": [
    "The mean value is equal to {{x}} and the variance value is equal to {{b}}"
   ]
  },
  {
   "cell_type": "markdown",
   "metadata": {},
   "source": []
  },
  {
   "cell_type": "code",
   "execution_count": null,
   "metadata": {},
   "outputs": [],
   "source": []
  }
 ],
 "metadata": {
  "kernelspec": {
   "display_name": "Python 3",
   "language": "python",
   "name": "python3"
  },
  "language_info": {
   "codemirror_mode": {
    "name": "ipython",
    "version": 3
   },
   "file_extension": ".py",
   "mimetype": "text/x-python",
   "name": "python",
   "nbconvert_exporter": "python",
   "pygments_lexer": "ipython3",
   "version": "3.7.4"
  }
 },
 "nbformat": 4,
 "nbformat_minor": 2
}
